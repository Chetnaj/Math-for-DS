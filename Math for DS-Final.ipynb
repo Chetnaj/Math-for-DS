{
 "cells": [
  {
   "cell_type": "code",
   "execution_count": 17,
   "id": "f92ded00",
   "metadata": {},
   "outputs": [],
   "source": [
    "import numpy as np\n",
    "import scipy as sp\n",
    "import sympy as smp\n",
    "from scipy.misc import derivative\n",
    "\n",
    "def grad(a,b):\n",
    "    x,y = smp.symbols('x y', real=True )\n",
    "    f = (x ** 2) * y - x * (y**2 )\n",
    "    dfdx = (2*(x**(2-1)*y) - (x**(1-1))*(y**2))\n",
    "    dfdy = ((x**2)*(y**(1-1)) - (2*x*y))\n",
    "    res=dfdx.subs(x,a).subs(y,b)\n",
    "    res1=dfdy.subs(x,a).subs(y,b)\n",
    "    return res,res1"
   ]
  },
  {
   "cell_type": "code",
   "execution_count": 18,
   "id": "69b98ce1",
   "metadata": {},
   "outputs": [
    {
     "data": {
      "text/plain": [
       "(3, -8)"
      ]
     },
     "execution_count": 18,
     "metadata": {},
     "output_type": "execute_result"
    }
   ],
   "source": [
    "grad(2,3)"
   ]
  },
  {
   "cell_type": "code",
   "execution_count": null,
   "id": "f547a8bf",
   "metadata": {},
   "outputs": [],
   "source": []
  }
 ],
 "metadata": {
  "kernelspec": {
   "display_name": "Python 3",
   "language": "python",
   "name": "python3"
  },
  "language_info": {
   "codemirror_mode": {
    "name": "ipython",
    "version": 3
   },
   "file_extension": ".py",
   "mimetype": "text/x-python",
   "name": "python",
   "nbconvert_exporter": "python",
   "pygments_lexer": "ipython3",
   "version": "3.8.8"
  }
 },
 "nbformat": 4,
 "nbformat_minor": 5
}
